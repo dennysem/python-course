{
 "cells": [
  {
   "cell_type": "markdown",
   "metadata": {},
   "source": [
    "1.3"
   ]
  },
  {
   "cell_type": "code",
   "execution_count": 45,
   "metadata": {
    "collapsed": true
   },
   "outputs": [],
   "source": [
    "def reverse_k(s, k):\n",
    "    return ' '.join([s[i*k:(i+1)*k][::-1] for i in range(len(s)//k+1)])"
   ]
  },
  {
   "cell_type": "code",
   "execution_count": 46,
   "metadata": {
    "collapsed": false
   },
   "outputs": [
    {
     "data": {
      "text/plain": [
       "'edcba jihgf onmlk tsrqp yxwvu z'"
      ]
     },
     "execution_count": 46,
     "metadata": {},
     "output_type": "execute_result"
    }
   ],
   "source": [
    "from string import ascii_lowercase\n",
    "reverse_k(ascii_lowercase, 5)"
   ]
  },
  {
   "cell_type": "markdown",
   "metadata": {},
   "source": [
    "3.3"
   ]
  },
  {
   "cell_type": "code",
   "execution_count": 8,
   "metadata": {
    "collapsed": true
   },
   "outputs": [],
   "source": [
    "class ReverseAttrMetaClass(type): \n",
    "    def __new__(upperattr_metaclass, future_class_name, \n",
    "                future_class_parents, future_class_attr):\n",
    "\n",
    "        reversed_attrs = dict(((name[::-1], value) for name, value in future_class_attr.items() if not name.startswith('__')))\n",
    "        return type.__new__(upperattr_metaclass, future_class_name, \n",
    "                            future_class_parents, reversed_attrs)"
   ]
  },
  {
   "cell_type": "code",
   "execution_count": 19,
   "metadata": {
    "collapsed": false
   },
   "outputs": [],
   "source": [
    "class Student(metaclass=ReverseAttrMetaClass):\n",
    "    eman='Denis'\n",
    "    ped='diht'\n",
    "    def weiver(self):\n",
    "        return 'gud boy'"
   ]
  },
  {
   "cell_type": "code",
   "execution_count": 20,
   "metadata": {
    "collapsed": false
   },
   "outputs": [
    {
     "data": {
      "text/plain": [
       "'Denis'"
      ]
     },
     "execution_count": 20,
     "metadata": {},
     "output_type": "execute_result"
    }
   ],
   "source": [
    "Student().name"
   ]
  },
  {
   "cell_type": "code",
   "execution_count": 21,
   "metadata": {
    "collapsed": false
   },
   "outputs": [
    {
     "data": {
      "text/plain": [
       "'diht'"
      ]
     },
     "execution_count": 21,
     "metadata": {},
     "output_type": "execute_result"
    }
   ],
   "source": [
    "Student().dep"
   ]
  },
  {
   "cell_type": "code",
   "execution_count": 22,
   "metadata": {
    "collapsed": false
   },
   "outputs": [
    {
     "data": {
      "text/plain": [
       "'gud boy'"
      ]
     },
     "execution_count": 22,
     "metadata": {},
     "output_type": "execute_result"
    }
   ],
   "source": [
    "Student().review()"
   ]
  },
  {
   "cell_type": "markdown",
   "metadata": {},
   "source": [
    "2.2"
   ]
  },
  {
   "cell_type": "code",
   "execution_count": 31,
   "metadata": {
    "collapsed": true
   },
   "outputs": [],
   "source": [
    "import threading\n",
    "from threading import Lock, Thread, get_ident"
   ]
  },
  {
   "cell_type": "code",
   "execution_count": 32,
   "metadata": {
    "collapsed": false
   },
   "outputs": [],
   "source": [
    "dialog = []\n",
    "dialog_lock = Lock()"
   ]
  },
  {
   "cell_type": "code",
   "execution_count": 36,
   "metadata": {
    "collapsed": true
   },
   "outputs": [],
   "source": [
    "import random\n",
    "\n",
    "def thread_job():\n",
    "    prev_len = None\n",
    "    for i in range(10):\n",
    "        next_phrase = random.choice(['You look great today', 'who iz gud boy', 'sounds great', 'you rock'])\n",
    "        next_phrase = '{} says \"{}\"'.format(get_ident(), next_phrase)\n",
    "        while len(dialog) == prev_len:\n",
    "            pass\n",
    "        with dialog_lock:\n",
    "            dialog.append(next_phrase)\n",
    "            prev_len = len(dialog)"
   ]
  },
  {
   "cell_type": "code",
   "execution_count": 37,
   "metadata": {
    "collapsed": false
   },
   "outputs": [],
   "source": [
    "threads = [Thread(target=thread_job) for i in range(2)]\n",
    "for thread in threads:\n",
    "    thread.start()\n",
    "for thread in threads:\n",
    "    thread.join()   "
   ]
  },
  {
   "cell_type": "code",
   "execution_count": 38,
   "metadata": {
    "collapsed": false
   },
   "outputs": [
    {
     "data": {
      "text/plain": [
       "['123145509220352 says \"sounds great\"',\n",
       " '123145514475520 says \"who iz gud boy\"',\n",
       " '123145509220352 says \"sounds great\"',\n",
       " '123145514475520 says \"sounds great\"',\n",
       " '123145509220352 says \"sounds great\"',\n",
       " '123145514475520 says \"You look great today\"',\n",
       " '123145509220352 says \"who iz gud boy\"',\n",
       " '123145514475520 says \"you rock\"',\n",
       " '123145509220352 says \"who iz gud boy\"',\n",
       " '123145514475520 says \"You look great today\"',\n",
       " '123145509220352 says \"you rock\"',\n",
       " '123145514475520 says \"who iz gud boy\"',\n",
       " '123145509220352 says \"who iz gud boy\"',\n",
       " '123145514475520 says \"sounds great\"',\n",
       " '123145509220352 says \"sounds great\"',\n",
       " '123145514475520 says \"who iz gud boy\"',\n",
       " '123145509220352 says \"who iz gud boy\"',\n",
       " '123145514475520 says \"sounds great\"',\n",
       " '123145509220352 says \"sounds great\"',\n",
       " '123145514475520 says \"You look great today\"']"
      ]
     },
     "execution_count": 38,
     "metadata": {},
     "output_type": "execute_result"
    }
   ],
   "source": [
    "dialog"
   ]
  },
  {
   "cell_type": "code",
   "execution_count": null,
   "metadata": {
    "collapsed": true
   },
   "outputs": [],
   "source": []
  }
 ],
 "metadata": {
  "kernelspec": {
   "display_name": "Python 3",
   "language": "python",
   "name": "python3"
  },
  "language_info": {
   "codemirror_mode": {
    "name": "ipython",
    "version": 3
   },
   "file_extension": ".py",
   "mimetype": "text/x-python",
   "name": "python",
   "nbconvert_exporter": "python",
   "pygments_lexer": "ipython3",
   "version": "3.5.2"
  }
 },
 "nbformat": 4,
 "nbformat_minor": 2
}
