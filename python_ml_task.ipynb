{
 "cells": [
  {
   "cell_type": "code",
   "execution_count": 4,
   "metadata": {
    "collapsed": false
   },
   "outputs": [],
   "source": [
    "import numpy as np\n",
    "import pandas as pd\n",
    "from sklearn import *"
   ]
  },
  {
   "cell_type": "code",
   "execution_count": 5,
   "metadata": {
    "collapsed": true
   },
   "outputs": [],
   "source": [
    "train = pd.read_csv('train.csv')\n",
    "test = pd.read_csv('test.csv')"
   ]
  },
  {
   "cell_type": "code",
   "execution_count": 6,
   "metadata": {
    "collapsed": false
   },
   "outputs": [
    {
     "data": {
      "text/html": [
       "<div>\n",
       "<table border=\"1\" class=\"dataframe\">\n",
       "  <thead>\n",
       "    <tr style=\"text-align: right;\">\n",
       "      <th></th>\n",
       "      <th>id</th>\n",
       "      <th>comment_text</th>\n",
       "      <th>toxic</th>\n",
       "      <th>severe_toxic</th>\n",
       "      <th>obscene</th>\n",
       "      <th>threat</th>\n",
       "      <th>insult</th>\n",
       "      <th>identity_hate</th>\n",
       "    </tr>\n",
       "  </thead>\n",
       "  <tbody>\n",
       "    <tr>\n",
       "      <th>0</th>\n",
       "      <td>22256635</td>\n",
       "      <td>Nonsense?  kiss off, geek. what I said is true...</td>\n",
       "      <td>1</td>\n",
       "      <td>0</td>\n",
       "      <td>0</td>\n",
       "      <td>0</td>\n",
       "      <td>0</td>\n",
       "      <td>0</td>\n",
       "    </tr>\n",
       "    <tr>\n",
       "      <th>1</th>\n",
       "      <td>27450690</td>\n",
       "      <td>\"\\n\\n Please do not vandalize pages, as you di...</td>\n",
       "      <td>0</td>\n",
       "      <td>0</td>\n",
       "      <td>0</td>\n",
       "      <td>0</td>\n",
       "      <td>0</td>\n",
       "      <td>0</td>\n",
       "    </tr>\n",
       "    <tr>\n",
       "      <th>2</th>\n",
       "      <td>54037174</td>\n",
       "      <td>\"\\n\\n \"\"Points of interest\"\" \\n\\nI removed the...</td>\n",
       "      <td>0</td>\n",
       "      <td>0</td>\n",
       "      <td>0</td>\n",
       "      <td>0</td>\n",
       "      <td>0</td>\n",
       "      <td>0</td>\n",
       "    </tr>\n",
       "    <tr>\n",
       "      <th>3</th>\n",
       "      <td>77493077</td>\n",
       "      <td>Asking some his nationality is a Racial offenc...</td>\n",
       "      <td>0</td>\n",
       "      <td>0</td>\n",
       "      <td>0</td>\n",
       "      <td>0</td>\n",
       "      <td>0</td>\n",
       "      <td>0</td>\n",
       "    </tr>\n",
       "    <tr>\n",
       "      <th>4</th>\n",
       "      <td>79357270</td>\n",
       "      <td>The reader here is not going by my say so for ...</td>\n",
       "      <td>0</td>\n",
       "      <td>0</td>\n",
       "      <td>0</td>\n",
       "      <td>0</td>\n",
       "      <td>0</td>\n",
       "      <td>0</td>\n",
       "    </tr>\n",
       "  </tbody>\n",
       "</table>\n",
       "</div>"
      ],
      "text/plain": [
       "         id                                       comment_text  toxic  \\\n",
       "0  22256635  Nonsense?  kiss off, geek. what I said is true...      1   \n",
       "1  27450690  \"\\n\\n Please do not vandalize pages, as you di...      0   \n",
       "2  54037174  \"\\n\\n \"\"Points of interest\"\" \\n\\nI removed the...      0   \n",
       "3  77493077  Asking some his nationality is a Racial offenc...      0   \n",
       "4  79357270  The reader here is not going by my say so for ...      0   \n",
       "\n",
       "   severe_toxic  obscene  threat  insult  identity_hate  \n",
       "0             0        0       0       0              0  \n",
       "1             0        0       0       0              0  \n",
       "2             0        0       0       0              0  \n",
       "3             0        0       0       0              0  \n",
       "4             0        0       0       0              0  "
      ]
     },
     "execution_count": 6,
     "metadata": {},
     "output_type": "execute_result"
    }
   ],
   "source": [
    "train.head()"
   ]
  },
  {
   "cell_type": "code",
   "execution_count": 7,
   "metadata": {
    "collapsed": true
   },
   "outputs": [],
   "source": [
    "y_cols = [c for c in train.columns if c not in ['id','comment_text']]\n",
    "y = train[y_cols]\n",
    "test_ids = test['id'].values"
   ]
  },
  {
   "cell_type": "code",
   "execution_count": 8,
   "metadata": {
    "collapsed": true
   },
   "outputs": [],
   "source": [
    "df = pd.concat([train['comment_text'], test['comment_text']], axis=0)\n",
    "df = df.fillna(\"test\")\n",
    "n_row = train.shape[0]"
   ]
  },
  {
   "cell_type": "markdown",
   "metadata": {},
   "source": [
    "Векторизуем нашу модель в tfidf матрицу\n",
    "\n",
    "Причем возьмем слова и из теста"
   ]
  },
  {
   "cell_type": "code",
   "execution_count": 26,
   "metadata": {
    "collapsed": true
   },
   "outputs": [],
   "source": [
    "tfidf = feature_extraction.text.TfidfVectorizer(min_df=3, max_df=0.9, strip_accents='unicode',\n",
    "                                                analyzer='word', token_pattern=r'\\w{1,}', ngram_range=(1,3), \n",
    "                                                use_idf=1, stop_words='english')\n",
    "data = tfidf.fit_transform(df)"
   ]
  },
  {
   "cell_type": "markdown",
   "metadata": {},
   "source": [
    "Обучим две модели"
   ]
  },
  {
   "cell_type": "markdown",
   "metadata": {},
   "source": [
    "Начнем с extratrees"
   ]
  },
  {
   "cell_type": "code",
   "execution_count": 26,
   "metadata": {
    "collapsed": false
   },
   "outputs": [
    {
     "name": "stdout",
     "output_type": "stream",
     "text": [
      "1\n"
     ]
    }
   ],
   "source": [
    "model = ensemble.ExtraTreesClassifier(n_jobs=-1, n_estimators=100)\n",
    "model = model.fit(data[:nrow], y)"
   ]
  },
  {
   "cell_type": "code",
   "execution_count": 29,
   "metadata": {
    "collapsed": false
   },
   "outputs": [
    {
     "name": "stdout",
     "output_type": "stream",
     "text": [
      "1\n"
     ]
    }
   ],
   "source": [
    "sub1 = pd.DataFrame(model.predict(data[nrow:]))\n",
    "sub1.columns = y_cols\n",
    "sub1['id'] = test_ids"
   ]
  },
  {
   "cell_type": "code",
   "execution_count": 30,
   "metadata": {
    "collapsed": false
   },
   "outputs": [
    {
     "data": {
      "text/html": [
       "<div>\n",
       "<table border=\"1\" class=\"dataframe\">\n",
       "  <thead>\n",
       "    <tr style=\"text-align: right;\">\n",
       "      <th></th>\n",
       "      <th>id</th>\n",
       "      <th>toxic</th>\n",
       "      <th>severe_toxic</th>\n",
       "      <th>obscene</th>\n",
       "      <th>threat</th>\n",
       "      <th>insult</th>\n",
       "      <th>identity_hate</th>\n",
       "    </tr>\n",
       "  </thead>\n",
       "  <tbody>\n",
       "    <tr>\n",
       "      <th>0</th>\n",
       "      <td>6044863</td>\n",
       "      <td>0.001864</td>\n",
       "      <td>1.125066e-06</td>\n",
       "      <td>0.000339</td>\n",
       "      <td>1.315842e-05</td>\n",
       "      <td>0.000112</td>\n",
       "      <td>0.000093</td>\n",
       "    </tr>\n",
       "    <tr>\n",
       "      <th>1</th>\n",
       "      <td>6102620</td>\n",
       "      <td>0.000204</td>\n",
       "      <td>2.440083e-08</td>\n",
       "      <td>0.000046</td>\n",
       "      <td>3.298898e-07</td>\n",
       "      <td>0.000007</td>\n",
       "      <td>0.000006</td>\n",
       "    </tr>\n",
       "    <tr>\n",
       "      <th>2</th>\n",
       "      <td>14563293</td>\n",
       "      <td>0.000186</td>\n",
       "      <td>3.065889e-08</td>\n",
       "      <td>0.000046</td>\n",
       "      <td>3.746936e-07</td>\n",
       "      <td>0.000007</td>\n",
       "      <td>0.000006</td>\n",
       "    </tr>\n",
       "    <tr>\n",
       "      <th>3</th>\n",
       "      <td>21086297</td>\n",
       "      <td>0.005284</td>\n",
       "      <td>3.060414e-06</td>\n",
       "      <td>0.000711</td>\n",
       "      <td>3.353372e-05</td>\n",
       "      <td>0.000326</td>\n",
       "      <td>0.000214</td>\n",
       "    </tr>\n",
       "    <tr>\n",
       "      <th>4</th>\n",
       "      <td>22982444</td>\n",
       "      <td>0.006287</td>\n",
       "      <td>5.782117e-06</td>\n",
       "      <td>0.000936</td>\n",
       "      <td>6.262553e-05</td>\n",
       "      <td>0.000469</td>\n",
       "      <td>0.000328</td>\n",
       "    </tr>\n",
       "  </tbody>\n",
       "</table>\n",
       "</div>"
      ],
      "text/plain": [
       "         id     toxic  severe_toxic   obscene        threat    insult  \\\n",
       "0   6044863  0.001864  1.125066e-06  0.000339  1.315842e-05  0.000112   \n",
       "1   6102620  0.000204  2.440083e-08  0.000046  3.298898e-07  0.000007   \n",
       "2  14563293  0.000186  3.065889e-08  0.000046  3.746936e-07  0.000007   \n",
       "3  21086297  0.005284  3.060414e-06  0.000711  3.353372e-05  0.000326   \n",
       "4  22982444  0.006287  5.782117e-06  0.000936  6.262553e-05  0.000469   \n",
       "\n",
       "   identity_hate  \n",
       "0       0.000093  \n",
       "1       0.000006  \n",
       "2       0.000006  \n",
       "3       0.000214  \n",
       "4       0.000328  "
      ]
     },
     "execution_count": 30,
     "metadata": {},
     "output_type": "execute_result"
    }
   ],
   "source": [
    "sub1.head()"
   ]
  },
  {
   "cell_type": "markdown",
   "metadata": {},
   "source": [
    "Теперь логрегрессия"
   ]
  },
  {
   "cell_type": "code",
   "execution_count": 50,
   "metadata": {
    "collapsed": false
   },
   "outputs": [
    {
     "name": "stdout",
     "output_type": "stream",
     "text": [
      "1\n"
     ]
    }
   ],
   "source": [
    "model = linear_model.LogisticRegression(C=0.5, penalty='l1')\n",
    "model = model.fit(data[:nrow], y)"
   ]
  },
  {
   "cell_type": "code",
   "execution_count": 51,
   "metadata": {
    "collapsed": false
   },
   "outputs": [
    {
     "name": "stdout",
     "output_type": "stream",
     "text": [
      "1\n"
     ]
    }
   ],
   "source": [
    "sub2 = pd.DataFrame(model.predict(data[nrow:]))\n",
    "sub2.columns = y_cols\n",
    "sub2['id'] = test_ids"
   ]
  },
  {
   "cell_type": "code",
   "execution_count": 52,
   "metadata": {
    "collapsed": false
   },
   "outputs": [
    {
     "data": {
      "text/html": [
       "<div>\n",
       "<table border=\"1\" class=\"dataframe\">\n",
       "  <thead>\n",
       "    <tr style=\"text-align: right;\">\n",
       "      <th></th>\n",
       "      <th>id</th>\n",
       "      <th>toxic</th>\n",
       "      <th>severe_toxic</th>\n",
       "      <th>obscene</th>\n",
       "      <th>threat</th>\n",
       "      <th>insult</th>\n",
       "      <th>identity_hate</th>\n",
       "    </tr>\n",
       "  </thead>\n",
       "  <tbody>\n",
       "    <tr>\n",
       "      <th>0</th>\n",
       "      <td>6044863</td>\n",
       "      <td>0.004927</td>\n",
       "      <td>1.075040e-05</td>\n",
       "      <td>0.000681</td>\n",
       "      <td>1.981909e-05</td>\n",
       "      <td>0.000526</td>\n",
       "      <td>0.000110</td>\n",
       "    </tr>\n",
       "    <tr>\n",
       "      <th>1</th>\n",
       "      <td>6102620</td>\n",
       "      <td>0.000213</td>\n",
       "      <td>1.973792e-07</td>\n",
       "      <td>0.000056</td>\n",
       "      <td>2.027216e-07</td>\n",
       "      <td>0.000015</td>\n",
       "      <td>0.000003</td>\n",
       "    </tr>\n",
       "    <tr>\n",
       "      <th>2</th>\n",
       "      <td>14563293</td>\n",
       "      <td>0.000159</td>\n",
       "      <td>1.054693e-07</td>\n",
       "      <td>0.000039</td>\n",
       "      <td>1.154329e-07</td>\n",
       "      <td>0.000010</td>\n",
       "      <td>0.000001</td>\n",
       "    </tr>\n",
       "    <tr>\n",
       "      <th>3</th>\n",
       "      <td>21086297</td>\n",
       "      <td>0.015406</td>\n",
       "      <td>3.838584e-05</td>\n",
       "      <td>0.002095</td>\n",
       "      <td>7.668863e-05</td>\n",
       "      <td>0.002036</td>\n",
       "      <td>0.000347</td>\n",
       "    </tr>\n",
       "    <tr>\n",
       "      <th>4</th>\n",
       "      <td>22982444</td>\n",
       "      <td>0.002901</td>\n",
       "      <td>5.016423e-06</td>\n",
       "      <td>0.000465</td>\n",
       "      <td>9.698233e-06</td>\n",
       "      <td>0.000302</td>\n",
       "      <td>0.000060</td>\n",
       "    </tr>\n",
       "  </tbody>\n",
       "</table>\n",
       "</div>"
      ],
      "text/plain": [
       "         id     toxic  severe_toxic   obscene        threat    insult  \\\n",
       "0   6044863  0.004927  1.075040e-05  0.000681  1.981909e-05  0.000526   \n",
       "1   6102620  0.000213  1.973792e-07  0.000056  2.027216e-07  0.000015   \n",
       "2  14563293  0.000159  1.054693e-07  0.000039  1.154329e-07  0.000010   \n",
       "3  21086297  0.015406  3.838584e-05  0.002095  7.668863e-05  0.002036   \n",
       "4  22982444  0.002901  5.016423e-06  0.000465  9.698233e-06  0.000302   \n",
       "\n",
       "   identity_hate  \n",
       "0       0.000110  \n",
       "1       0.000003  \n",
       "2       0.000001  \n",
       "3       0.000347  \n",
       "4       0.000060  "
      ]
     },
     "execution_count": 52,
     "metadata": {},
     "output_type": "execute_result"
    }
   ],
   "source": [
    "sub2.head()"
   ]
  },
  {
   "cell_type": "markdown",
   "metadata": {},
   "source": [
    "Блендинг"
   ]
  },
  {
   "cell_type": "code",
   "execution_count": 73,
   "metadata": {
    "collapsed": false
   },
   "outputs": [
    {
     "name": "stdout",
     "output_type": "stream",
     "text": [
      "1\n"
     ]
    }
   ],
   "source": [
    "blend = pd.merge(sub1, sub2, how='left', on='id')\n",
    "for c in y_cols:\n",
    "    if c != 'id':\n",
    "        blend[c] = blend[c+'_x'] * 0.5 + blend[c+'_y'] * 0.5\n",
    "        blend[c] = blend[c].clip(0+1e12, 1-1e12)\n",
    "blend = balend[sub1.columns]\n",
    "blend.to_csv('blend.csv', index=False)"
   ]
  },
  {
   "cell_type": "code",
   "execution_count": 74,
   "metadata": {
    "collapsed": false
   },
   "outputs": [
    {
     "data": {
      "text/html": [
       "<div>\n",
       "<table border=\"1\" class=\"dataframe\">\n",
       "  <thead>\n",
       "    <tr style=\"text-align: right;\">\n",
       "      <th></th>\n",
       "      <th>id</th>\n",
       "      <th>toxic</th>\n",
       "      <th>severe_toxic</th>\n",
       "      <th>obscene</th>\n",
       "      <th>threat</th>\n",
       "      <th>insult</th>\n",
       "      <th>identity_hate</th>\n",
       "    </tr>\n",
       "  </thead>\n",
       "  <tbody>\n",
       "    <tr>\n",
       "      <th>0</th>\n",
       "      <td>6044863</td>\n",
       "      <td>0.003396</td>\n",
       "      <td>5.937734e-06</td>\n",
       "      <td>0.000510</td>\n",
       "      <td>1.648875e-05</td>\n",
       "      <td>0.000319</td>\n",
       "      <td>0.000102</td>\n",
       "    </tr>\n",
       "    <tr>\n",
       "      <th>1</th>\n",
       "      <td>6102620</td>\n",
       "      <td>0.000208</td>\n",
       "      <td>1.108900e-07</td>\n",
       "      <td>0.000051</td>\n",
       "      <td>2.663057e-07</td>\n",
       "      <td>0.000011</td>\n",
       "      <td>0.000004</td>\n",
       "    </tr>\n",
       "    <tr>\n",
       "      <th>2</th>\n",
       "      <td>14563293</td>\n",
       "      <td>0.000173</td>\n",
       "      <td>6.806408e-08</td>\n",
       "      <td>0.000042</td>\n",
       "      <td>2.450633e-07</td>\n",
       "      <td>0.000008</td>\n",
       "      <td>0.000004</td>\n",
       "    </tr>\n",
       "    <tr>\n",
       "      <th>3</th>\n",
       "      <td>21086297</td>\n",
       "      <td>0.010345</td>\n",
       "      <td>2.072312e-05</td>\n",
       "      <td>0.001403</td>\n",
       "      <td>5.511117e-05</td>\n",
       "      <td>0.001181</td>\n",
       "      <td>0.000280</td>\n",
       "    </tr>\n",
       "    <tr>\n",
       "      <th>4</th>\n",
       "      <td>22982444</td>\n",
       "      <td>0.004594</td>\n",
       "      <td>5.399270e-06</td>\n",
       "      <td>0.000700</td>\n",
       "      <td>3.616188e-05</td>\n",
       "      <td>0.000385</td>\n",
       "      <td>0.000194</td>\n",
       "    </tr>\n",
       "  </tbody>\n",
       "</table>\n",
       "</div>"
      ],
      "text/plain": [
       "         id     toxic  severe_toxic   obscene        threat    insult  \\\n",
       "0   6044863  0.003396  5.937734e-06  0.000510  1.648875e-05  0.000319   \n",
       "1   6102620  0.000208  1.108900e-07  0.000051  2.663057e-07  0.000011   \n",
       "2  14563293  0.000173  6.806408e-08  0.000042  2.450633e-07  0.000008   \n",
       "3  21086297  0.010345  2.072312e-05  0.001403  5.511117e-05  0.001181   \n",
       "4  22982444  0.004594  5.399270e-06  0.000700  3.616188e-05  0.000385   \n",
       "\n",
       "   identity_hate  \n",
       "0       0.000102  \n",
       "1       0.000004  \n",
       "2       0.000004  \n",
       "3       0.000280  \n",
       "4       0.000194  "
      ]
     },
     "execution_count": 74,
     "metadata": {},
     "output_type": "execute_result"
    }
   ],
   "source": [
    "blend.head()"
   ]
  }
 ],
 "metadata": {
  "kernelspec": {
   "display_name": "Python 3",
   "language": "python",
   "name": "python3"
  },
  "language_info": {
   "codemirror_mode": {
    "name": "ipython",
    "version": 3
   },
   "file_extension": ".py",
   "mimetype": "text/x-python",
   "name": "python",
   "nbconvert_exporter": "python",
   "pygments_lexer": "ipython3",
   "version": "3.5.2"
  }
 },
 "nbformat": 4,
 "nbformat_minor": 2
}
